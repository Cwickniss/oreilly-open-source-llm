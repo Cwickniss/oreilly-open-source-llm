{
 "cells": [
  {
   "cell_type": "code",
   "execution_count": null,
   "id": "009caa7a-21c3-4f1e-9715-10fa71bd8282",
   "metadata": {},
   "outputs": [],
   "source": [
    "from vllm import LLM, SamplingParams"
   ]
  },
  {
   "cell_type": "code",
   "execution_count": null,
   "id": "f36e0d2e-338b-42be-ace4-cf23286f70ab",
   "metadata": {},
   "outputs": [],
   "source": [
    "model_name = \"microsoft/Phi-4-mini-instruct\"\n",
    "llm = LLM(model=model_name, max_model_len=16384, trust_remote_code=True)"
   ]
  },
  {
   "cell_type": "code",
   "execution_count": null,
   "id": "eb5a70e6-ebb2-4431-b205-4135a9c6f310",
   "metadata": {},
   "outputs": [],
   "source": [
    "messages = [\n",
    "    {\"role\": \"system\", \"content\": \"You are a helpful AI assistant.\"},\n",
    "    {\"role\": \"user\", \"content\": \"Explain O'Reilly online learning\"}\n",
    "]\n",
    "\n",
    "sampling_params = SamplingParams(\n",
    "  max_tokens=500,\n",
    "  temperature=0.0,\n",
    ")"
   ]
  },
  {
   "cell_type": "code",
   "execution_count": null,
   "id": "90b55b01-b69d-404e-af26-eebb4e7574a1",
   "metadata": {},
   "outputs": [],
   "source": [
    "output = llm.chat(messages=messages, sampling_params=sampling_params)"
   ]
  },
  {
   "cell_type": "code",
   "execution_count": null,
   "id": "e843d904-c510-4140-ad90-e6883d6aad92",
   "metadata": {},
   "outputs": [],
   "source": [
    "for o in output:\n",
    "    prompt = o.prompt\n",
    "    generated_text = o.outputs[0].text\n",
    "    print(f\"Prompt: {prompt!r}, Generated text: {generated_text!r}\")"
   ]
  },
  {
   "cell_type": "code",
   "execution_count": null,
   "id": "7fdd66c5-7f7c-40b4-8151-24ad9983d9f4",
   "metadata": {},
   "outputs": [],
   "source": []
  }
 ],
 "metadata": {
  "kernelspec": {
   "display_name": "vllm",
   "language": "python",
   "name": "vllm"
  },
  "language_info": {
   "codemirror_mode": {
    "name": "ipython",
    "version": 3
   },
   "file_extension": ".py",
   "mimetype": "text/x-python",
   "name": "python",
   "nbconvert_exporter": "python",
   "pygments_lexer": "ipython3",
   "version": "3.11.11"
  }
 },
 "nbformat": 4,
 "nbformat_minor": 5
}
