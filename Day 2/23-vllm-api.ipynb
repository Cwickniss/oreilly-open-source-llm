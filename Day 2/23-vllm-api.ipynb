{
 "cells": [
  {
   "cell_type": "code",
   "execution_count": null,
   "id": "92e054f8-c05c-492b-a882-0c82c2ced895",
   "metadata": {},
   "outputs": [],
   "source": [
    "from openai import OpenAI"
   ]
  },
  {
   "cell_type": "code",
   "execution_count": null,
   "id": "fd6e661d-38a3-44d3-940a-b861510bb388",
   "metadata": {},
   "outputs": [],
   "source": [
    "openai_api_key = \"EMPTY\"\n",
    "openai_api_base = \"http://localhost:8000/v1\"\n",
    "client = OpenAI(\n",
    "    api_key=openai_api_key,\n",
    "    base_url=openai_api_base,\n",
    ")"
   ]
  },
  {
   "cell_type": "markdown",
   "id": "41bad1cb-3bab-4af9-8686-16c0b7af367b",
   "metadata": {},
   "source": [
    "Run: `vllm serve Qwen/Qwen2.5-0.5B-Instruct`"
   ]
  },
  {
   "cell_type": "code",
   "execution_count": null,
   "id": "8076664c-0aa7-4a76-9079-87ac0606746c",
   "metadata": {},
   "outputs": [],
   "source": [
    "completion = client.completions.create(model=\"Qwen/Qwen2.5-0.5B-Instruct\",\n",
    "                                       prompt=\"Explain O'Reilly online learning\")\n",
    "print(\"Completion result:\", completion)"
   ]
  },
  {
   "cell_type": "code",
   "execution_count": null,
   "id": "224e5224-35ec-4a4a-977e-412d381ecb13",
   "metadata": {},
   "outputs": [],
   "source": []
  }
 ],
 "metadata": {
  "kernelspec": {
   "display_name": "vllm",
   "language": "python",
   "name": "vllm"
  },
  "language_info": {
   "codemirror_mode": {
    "name": "ipython",
    "version": 3
   },
   "file_extension": ".py",
   "mimetype": "text/x-python",
   "name": "python",
   "nbconvert_exporter": "python",
   "pygments_lexer": "ipython3",
   "version": "3.11.11"
  }
 },
 "nbformat": 4,
 "nbformat_minor": 5
}
