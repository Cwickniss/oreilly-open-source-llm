{
 "cells": [
  {
   "cell_type": "code",
   "execution_count": null,
   "id": "afb51902-054c-42da-83c4-fd8931979e13",
   "metadata": {},
   "outputs": [],
   "source": [
    "import requests"
   ]
  },
  {
   "cell_type": "code",
   "execution_count": null,
   "id": "7ba238b9-18c8-426c-a6f1-591ee8536a8f",
   "metadata": {},
   "outputs": [],
   "source": [
    "headers = {\n",
    "    \"Content-Type\": \"application/json\",\n",
    "}\n",
    "\n",
    "data = {\n",
    "    'inputs': \"\"\"<|im_start|>system\\nYou are a helpful assistant.<|im_end|>\n",
    "<|im_start|>user\\nTell me about O'Reilly online learning!<|im_end|>\n",
    "<|im_start|>assistant\"\"\",\n",
    "    'parameters': {\n",
    "        'max_new_tokens': 512,\n",
    "    },\n",
    "}"
   ]
  },
  {
   "cell_type": "markdown",
   "id": "9968ce5f-ab4d-4344-89dd-a96c9abd9c28",
   "metadata": {},
   "source": [
    "Run TGI:\n",
    "\n",
    "`docker run --gpus all --shm-size 1g -p 8090:80 -v $PWD/data:/data ghcr.io/huggingface/text-generation-inference:latest --model-id Qwen/Qwen2.5-0.5B-Instruct`"
   ]
  },
  {
   "cell_type": "code",
   "execution_count": null,
   "id": "e9324447-2b37-4e8c-b431-3623ff9a527b",
   "metadata": {},
   "outputs": [],
   "source": [
    "response = requests.post('http://127.0.0.1:8090/generate', headers=headers, json=data)"
   ]
  },
  {
   "cell_type": "code",
   "execution_count": null,
   "id": "d75443c8-d42e-46fb-bd84-b2bfcb74b5d2",
   "metadata": {},
   "outputs": [],
   "source": [
    "print(response.json())"
   ]
  },
  {
   "cell_type": "code",
   "execution_count": null,
   "id": "c9f2d563-6d5a-4856-be80-091cf8ee5acf",
   "metadata": {},
   "outputs": [],
   "source": []
  }
 ],
 "metadata": {
  "kernelspec": {
   "display_name": "Python 3 (ipykernel)",
   "language": "python",
   "name": "python3"
  },
  "language_info": {
   "codemirror_mode": {
    "name": "ipython",
    "version": 3
   },
   "file_extension": ".py",
   "mimetype": "text/x-python",
   "name": "python",
   "nbconvert_exporter": "python",
   "pygments_lexer": "ipython3",
   "version": "3.12.3"
  }
 },
 "nbformat": 4,
 "nbformat_minor": 5
}
