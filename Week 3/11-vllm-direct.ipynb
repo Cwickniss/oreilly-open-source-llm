{
 "cells": [
  {
   "cell_type": "code",
   "execution_count": 1,
   "id": "d6375aee-0d5b-4840-9ef3-b8d8dcd28b98",
   "metadata": {},
   "outputs": [],
   "source": [
    "from vllm import LLM"
   ]
  },
  {
   "cell_type": "code",
   "execution_count": 2,
   "id": "ab00bef2-0851-45b9-a9fd-69bae5f3469f",
   "metadata": {},
   "outputs": [
    {
     "name": "stdout",
     "output_type": "stream",
     "text": [
      "INFO 02-25 11:49:26 __init__.py:207] Automatically detected platform cuda.\n",
      "INFO 02-25 11:49:40 config.py:549] This model supports multiple tasks: {'reward', 'score', 'classify', 'generate', 'embed'}. Defaulting to 'generate'.\n",
      "INFO 02-25 11:49:40 llm_engine.py:234] Initializing a V0 LLM engine (v0.7.3) with config: model='Qwen/Qwen2.5-0.5B-Instruct', speculative_config=None, tokenizer='Qwen/Qwen2.5-0.5B-Instruct', skip_tokenizer_init=False, tokenizer_mode=auto, revision=None, override_neuron_config=None, tokenizer_revision=None, trust_remote_code=False, dtype=torch.bfloat16, max_seq_len=32768, download_dir=None, load_format=LoadFormat.AUTO, tensor_parallel_size=1, pipeline_parallel_size=1, disable_custom_all_reduce=False, quantization=None, enforce_eager=False, kv_cache_dtype=auto,  device_config=cuda, decoding_config=DecodingConfig(guided_decoding_backend='xgrammar'), observability_config=ObservabilityConfig(otlp_traces_endpoint=None, collect_model_forward_time=False, collect_model_execute_time=False), seed=0, served_model_name=Qwen/Qwen2.5-0.5B-Instruct, num_scheduler_steps=1, multi_step_stream_outputs=True, enable_prefix_caching=False, chunked_prefill_enabled=False, use_async_output_proc=True, disable_mm_preprocessor_cache=False, mm_processor_kwargs=None, pooler_config=None, compilation_config={\"splitting_ops\":[],\"compile_sizes\":[],\"cudagraph_capture_sizes\":[256,248,240,232,224,216,208,200,192,184,176,168,160,152,144,136,128,120,112,104,96,88,80,72,64,56,48,40,32,24,16,8,4,2,1],\"max_capture_size\":256}, use_cached_outputs=False, \n",
      "INFO 02-25 11:49:43 cuda.py:229] Using Flash Attention backend.\n",
      "INFO 02-25 11:49:45 model_runner.py:1110] Starting to load model Qwen/Qwen2.5-0.5B-Instruct...\n",
      "INFO 02-25 11:49:45 weight_utils.py:254] Using model weights format ['*.safetensors']\n",
      "INFO 02-25 11:49:45 weight_utils.py:304] No model.safetensors.index.json found in remote.\n"
     ]
    },
    {
     "data": {
      "application/vnd.jupyter.widget-view+json": {
       "model_id": "07e9747e5a39492d8ac4392a905cb0a5",
       "version_major": 2,
       "version_minor": 0
      },
      "text/plain": [
       "Loading safetensors checkpoint shards:   0% Completed | 0/1 [00:00<?, ?it/s]\n"
      ]
     },
     "metadata": {},
     "output_type": "display_data"
    },
    {
     "name": "stdout",
     "output_type": "stream",
     "text": [
      "INFO 02-25 11:49:46 model_runner.py:1115] Loading model weights took 0.9277 GB\n",
      "INFO 02-25 11:49:46 worker.py:267] Memory profiling takes 0.64 seconds\n",
      "INFO 02-25 11:49:46 worker.py:267] the current vLLM instance can use total_gpu_memory (23.53GiB) x gpu_memory_utilization (0.90) = 21.17GiB\n",
      "INFO 02-25 11:49:46 worker.py:267] model weights take 0.93GiB; non_torch_memory takes 0.08GiB; PyTorch activation peak memory takes 1.44GiB; the rest of the memory reserved for KV Cache is 18.73GiB.\n",
      "INFO 02-25 11:49:47 executor_base.py:111] # cuda blocks: 102280, # CPU blocks: 21845\n",
      "INFO 02-25 11:49:47 executor_base.py:116] Maximum concurrency for 32768 tokens per request: 49.94x\n",
      "INFO 02-25 11:49:51 model_runner.py:1434] Capturing cudagraphs for decoding. This may lead to unexpected consequences if the model is not static. To run the model in eager mode, set 'enforce_eager=True' or use '--enforce-eager' in the CLI. If out-of-memory error occurs during cudagraph capture, consider decreasing `gpu_memory_utilization` or switching to eager mode. You can also reduce the `max_num_seqs` as needed to decrease memory usage.\n"
     ]
    },
    {
     "name": "stderr",
     "output_type": "stream",
     "text": [
      "Capturing CUDA graph shapes: 100%|██████████████████████████████████████████████████████████████████████████████████████████████████████████████████████████████████████████████████████████████████████████████████████████████| 35/35 [00:13<00:00,  2.62it/s]"
     ]
    },
    {
     "name": "stdout",
     "output_type": "stream",
     "text": [
      "INFO 02-25 11:50:05 model_runner.py:1562] Graph capturing finished in 13 secs, took 0.19 GiB\n",
      "INFO 02-25 11:50:05 llm_engine.py:436] init engine (profile, create kv cache, warmup model) took 18.93 seconds\n"
     ]
    },
    {
     "name": "stderr",
     "output_type": "stream",
     "text": [
      "\n"
     ]
    }
   ],
   "source": [
    "model_name = \"Qwen/Qwen2.5-0.5B-Instruct\"\n",
    "llm = LLM(model=model_name)"
   ]
  },
  {
   "cell_type": "code",
   "execution_count": null,
   "id": "0093d633-a1d4-41ff-afa2-6f776b9efca9",
   "metadata": {},
   "outputs": [],
   "source": [
    "prompts = [\"Explain O'Reilly online learning!\", \"Explain the Djikstra algorithm\"]\n",
    "outputs = llm.generate(prompts)"
   ]
  },
  {
   "cell_type": "code",
   "execution_count": null,
   "id": "13b1804a-a5c5-4282-a41e-b9881f4feba5",
   "metadata": {},
   "outputs": [],
   "source": [
    "for output in outputs:\n",
    "    prompt = output.prompt\n",
    "    generated_text = output.outputs[0].text\n",
    "    print(f\"Prompt: {prompt!r}, Generated text: {generated_text!r}\")"
   ]
  },
  {
   "cell_type": "code",
   "execution_count": null,
   "id": "009caa7a-21c3-4f1e-9715-10fa71bd8282",
   "metadata": {},
   "outputs": [],
   "source": []
  }
 ],
 "metadata": {
  "kernelspec": {
   "display_name": "vllm",
   "language": "python",
   "name": "vllm"
  },
  "language_info": {
   "codemirror_mode": {
    "name": "ipython",
    "version": 3
   },
   "file_extension": ".py",
   "mimetype": "text/x-python",
   "name": "python",
   "nbconvert_exporter": "python",
   "pygments_lexer": "ipython3",
   "version": "3.11.11"
  }
 },
 "nbformat": 4,
 "nbformat_minor": 5
}
