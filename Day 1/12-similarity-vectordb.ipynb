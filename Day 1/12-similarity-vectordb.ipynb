{
 "cells": [
  {
   "cell_type": "markdown",
   "id": "b64ece1d-7558-4fb6-a98b-ad06283bb898",
   "metadata": {},
   "source": [
    "# Load data (from previous notebook)"
   ]
  },
  {
   "cell_type": "code",
   "execution_count": null,
   "id": "1c08c809-10c6-42aa-9a01-0477ca426b2f",
   "metadata": {},
   "outputs": [],
   "source": [
    "sentences = open(\"sentences.txt\").read().split(\"@@@\")"
   ]
  },
  {
   "cell_type": "code",
   "execution_count": null,
   "id": "73220da2-6d8f-42db-95ac-f361449388b5",
   "metadata": {},
   "outputs": [],
   "source": [
    "len(sentences)"
   ]
  },
  {
   "cell_type": "code",
   "execution_count": null,
   "id": "9d13cb7a-1325-4059-af8c-bbd026ce9a86",
   "metadata": {},
   "outputs": [],
   "source": [
    "import numpy as np\n",
    "with open(\"sentences-mqa.npy\", \"rb\") as f:\n",
    "    sembeddings = np.load(f)"
   ]
  },
  {
   "cell_type": "markdown",
   "id": "c8a656b2-e292-47e4-8c91-066acbf77186",
   "metadata": {},
   "source": [
    "# Vector DB"
   ]
  },
  {
   "cell_type": "code",
   "execution_count": null,
   "id": "3c7be022-2f8f-42e4-b6ab-0427e31931d0",
   "metadata": {},
   "outputs": [],
   "source": [
    "from pymilvus import MilvusClient"
   ]
  },
  {
   "cell_type": "code",
   "execution_count": null,
   "id": "ab9cd50d-0751-408b-8953-d5f091afe0aa",
   "metadata": {},
   "outputs": [],
   "source": [
    "client = MilvusClient(\"un-77.db\")"
   ]
  },
  {
   "cell_type": "code",
   "execution_count": null,
   "id": "6a63f3da-4aec-4232-b58e-a8809720ad38",
   "metadata": {},
   "outputs": [],
   "source": [
    "data = [ { \"id\": i, \n",
    "           \"vector\": sembeddings[i], \n",
    "           \"text\": sentences[i] } for i in range(len(sembeddings)) ]"
   ]
  },
  {
   "cell_type": "markdown",
   "id": "12b1d846-3b21-43da-b139-cf3e81c95627",
   "metadata": {},
   "source": [
    "We could use many more fields here, like `country`. These fields can be used for filtering then."
   ]
  },
  {
   "cell_type": "code",
   "execution_count": null,
   "id": "47bde6f4-62b6-4739-9a50-d0c53027bafd",
   "metadata": {},
   "outputs": [],
   "source": [
    "client.drop_collection(collection_name=\"mqa\")"
   ]
  },
  {
   "cell_type": "code",
   "execution_count": null,
   "id": "41957904-8e53-4de9-8f5a-42aabb9013af",
   "metadata": {},
   "outputs": [],
   "source": [
    "client.create_collection(collection_name=\"mqa\", dimension=sembeddings[0].shape[0])\n",
    "res = client.insert(collection_name=\"mqa\", data=data)"
   ]
  },
  {
   "cell_type": "code",
   "execution_count": null,
   "id": "9ca1b2b1-9072-4b60-b8c4-4130b8f8d6dd",
   "metadata": {},
   "outputs": [],
   "source": [
    "# need model for calculating new embeddings\n",
    "from sentence_transformers import SentenceTransformer\n",
    "model = SentenceTransformer('multi-qa-MiniLM-L6-cos-v1')"
   ]
  },
  {
   "cell_type": "code",
   "execution_count": null,
   "id": "2f47ae86-5428-4d22-9067-d96959d6414d",
   "metadata": {},
   "outputs": [],
   "source": [
    "import pandas as pd\n",
    "def search(query, client, collection, model, query_prompt_name=None, top=20):\n",
    "    # code query to restrict search space\n",
    "    question_embedding = model.encode(query, normalize_embeddings=True, prompt_name=query_prompt_name)\n",
    "    \n",
    "    # search vector database\n",
    "    hits = client.search(collection_name=collection, data=[question_embedding], limit=top,\n",
    "                        output_fields=[\"text\"])\n",
    "    \n",
    "    # Return as dataframe\n",
    "    return pd.DataFrame([{ \"id\": r[\"id\"], \n",
    "                           \"text\": r[\"entity\"][\"text\"], \n",
    "                           \"score\": r[\"distance\"] } for r in hits[0]])"
   ]
  },
  {
   "cell_type": "code",
   "execution_count": null,
   "id": "7b3a0f3f-6a10-406e-938c-ff7573787206",
   "metadata": {},
   "outputs": [],
   "source": [
    "pd.set_option('display.max_colwidth', 0)"
   ]
  },
  {
   "cell_type": "code",
   "execution_count": null,
   "id": "ed14fc30-5640-4891-8ae1-defa57bf21a6",
   "metadata": {},
   "outputs": [],
   "source": [
    "search(\"The climate crisis is worse in poorer countries\", client, \"mqa\", model)"
   ]
  },
  {
   "cell_type": "code",
   "execution_count": null,
   "id": "249aee64-c6cb-42d2-941e-e32c96b6e6a9",
   "metadata": {},
   "outputs": [],
   "source": [
    "model2 = SentenceTransformer('mixedbread-ai/mxbai-embed-large-v1')\n",
    "with open(\"sentences-mbread.npy\", \"rb\") as f:\n",
    "    sembeddings2 = np.load(f)"
   ]
  },
  {
   "cell_type": "code",
   "execution_count": null,
   "id": "e71823af-6edb-401e-9161-9848397f42a6",
   "metadata": {},
   "outputs": [],
   "source": [
    "data = [ { \"id\": i, \n",
    "           \"vector\": sembeddings2[i], \n",
    "           \"text\": sentences[i] } for i in range(len(sembeddings2)) ]"
   ]
  },
  {
   "cell_type": "code",
   "execution_count": null,
   "id": "09c84e13-1e34-44bc-8629-c1f56a6a76e0",
   "metadata": {},
   "outputs": [],
   "source": [
    "client.create_collection(collection_name=\"mxbai\", dimension=sembeddings2[0].shape[0])\n",
    "res = client.insert(collection_name=\"mxbai\", data=data)"
   ]
  },
  {
   "cell_type": "code",
   "execution_count": null,
   "id": "1d29ec91-a429-4736-8ba0-343f298a42d4",
   "metadata": {},
   "outputs": [],
   "source": [
    "search(\"The climate crisis is worse for poorer countries.\", \n",
    "       client, \"mxbai\", model2, query_prompt_name=\"query\")"
   ]
  },
  {
   "cell_type": "code",
   "execution_count": null,
   "id": "da1e782c",
   "metadata": {},
   "outputs": [],
   "source": [
    "model3 = SentenceTransformer(\"NovaSearch/stella_en_1.5B_v5\", trust_remote_code=True)\n",
    "with open(\"sentences-stella.npy\", \"rb\") as f:\n",
    "    sembeddings3 = np.load(f)"
   ]
  },
  {
   "cell_type": "code",
   "execution_count": null,
   "id": "16884c5a-5a61-4deb-bc8b-2506f78bb503",
   "metadata": {},
   "outputs": [],
   "source": [
    "data = [ { \"id\": i, \n",
    "           \"vector\": sembeddings3[i], \n",
    "           \"text\": sentences[i] } for i in range(len(sembeddings3)) ]"
   ]
  },
  {
   "cell_type": "code",
   "execution_count": null,
   "id": "6df598a9-b856-4a11-b979-dea872c90876",
   "metadata": {},
   "outputs": [],
   "source": [
    "client.create_collection(collection_name=\"stella\", dimension=sembeddings3[0].shape[0])\n",
    "res = client.insert(collection_name=\"stella\", data=data)"
   ]
  },
  {
   "cell_type": "code",
   "execution_count": null,
   "id": "ce6452e7",
   "metadata": {},
   "outputs": [],
   "source": [
    "search(\"The climate crisis is worse for poorer countries.\", \n",
    "       client, \"stella\", model3, query_prompt_name=\"s2p_query\")"
   ]
  }
 ],
 "metadata": {
  "kernelspec": {
   "display_name": "Python 3 (ipykernel)",
   "language": "python",
   "name": "python3"
  },
  "language_info": {
   "codemirror_mode": {
    "name": "ipython",
    "version": 3
   },
   "file_extension": ".py",
   "mimetype": "text/x-python",
   "name": "python",
   "nbconvert_exporter": "python",
   "pygments_lexer": "ipython3",
   "version": "3.12.3"
  }
 },
 "nbformat": 4,
 "nbformat_minor": 5
}
