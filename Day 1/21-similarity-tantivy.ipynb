{
 "cells": [
  {
   "cell_type": "markdown",
   "id": "b64ece1d-7558-4fb6-a98b-ad06283bb898",
   "metadata": {},
   "source": [
    "# Load data (from previous notebook)"
   ]
  },
  {
   "cell_type": "code",
   "execution_count": null,
   "id": "1c08c809-10c6-42aa-9a01-0477ca426b2f",
   "metadata": {},
   "outputs": [],
   "source": [
    "sentences = open(\"sentences.txt\").read().split(\"@@@\")"
   ]
  },
  {
   "cell_type": "code",
   "execution_count": null,
   "id": "73220da2-6d8f-42db-95ac-f361449388b5",
   "metadata": {},
   "outputs": [],
   "source": [
    "len(sentences)"
   ]
  },
  {
   "cell_type": "markdown",
   "id": "c8a656b2-e292-47e4-8c91-066acbf77186",
   "metadata": {},
   "source": [
    "# Create index"
   ]
  },
  {
   "cell_type": "code",
   "execution_count": null,
   "id": "e5a17bb5-7ce8-43d4-a288-c4d91ede0b9d",
   "metadata": {},
   "outputs": [],
   "source": [
    "import tantivy"
   ]
  },
  {
   "cell_type": "code",
   "execution_count": null,
   "id": "f2f81e52-d1b6-493a-a61b-b1ca81b4ccf8",
   "metadata": {},
   "outputs": [],
   "source": [
    "schema_builder = tantivy.SchemaBuilder()\n",
    "schema_builder.add_integer_field(\"id\", stored=True)\n",
    "schema_builder.add_text_field(\"text\", stored=True)\n",
    "schema = schema_builder.build()"
   ]
  },
  {
   "cell_type": "code",
   "execution_count": null,
   "id": "df38ee4d-b875-48be-adf5-366a9a1317b7",
   "metadata": {},
   "outputs": [],
   "source": [
    "import os\n",
    "try:\n",
    "    os.mkdir(\"tantivy-index\")\n",
    "except:\n",
    "    pass"
   ]
  },
  {
   "cell_type": "code",
   "execution_count": null,
   "id": "b4a35571-cf5d-418c-b93b-b2edf3d97e5a",
   "metadata": {},
   "outputs": [],
   "source": [
    "index = tantivy.Index(schema, \"tantivy-index\")\n",
    "writer = index.writer()"
   ]
  },
  {
   "cell_type": "code",
   "execution_count": null,
   "id": "962dbf90-7656-4e80-9746-7392cdf1fc2b",
   "metadata": {},
   "outputs": [],
   "source": [
    "from tqdm.auto import tqdm\n",
    "for i, t in tqdm(enumerate(sentences)):\n",
    "    writer.add_document(tantivy.Document(id=i, text=t))"
   ]
  },
  {
   "cell_type": "code",
   "execution_count": null,
   "id": "f0520c04-e131-4836-87f4-199e666a26a3",
   "metadata": {},
   "outputs": [],
   "source": [
    "writer.commit()"
   ]
  },
  {
   "cell_type": "markdown",
   "id": "75188672-9c0a-444b-b498-702ae0019f49",
   "metadata": {},
   "source": [
    "# Search"
   ]
  },
  {
   "cell_type": "code",
   "execution_count": null,
   "id": "4e339f79-f98b-4a24-8cd8-905e7a4468d2",
   "metadata": {},
   "outputs": [],
   "source": [
    "# Reload the index to ensure it points to the last commit.\n",
    "index.reload()"
   ]
  },
  {
   "cell_type": "code",
   "execution_count": null,
   "id": "d19f00f4-a9ae-463e-818e-08059223a1ff",
   "metadata": {},
   "outputs": [],
   "source": [
    "def search(query, index, top=20):\n",
    "    searcher = index.searcher()\n",
    "    query = index.parse_query(query, [\"text\"])\n",
    "    search_results = searcher.search(query, limit=20).hits\n",
    "    res = []\n",
    "    for (score, doc_id) in search_results:\n",
    "        doc = searcher.doc(doc_id)\n",
    "        res.append({ \"id\": doc[\"id\"][0], \"text\": doc[\"text\"][0], \"score\": score })\n",
    "\n",
    "    return(pd.DataFrame(res))"
   ]
  },
  {
   "cell_type": "code",
   "execution_count": null,
   "id": "84f31c94-9cd7-4a06-98e3-2b338f8852be",
   "metadata": {},
   "outputs": [],
   "source": [
    "import pandas as pd\n",
    "pd.set_option('display.max_colwidth', 0)"
   ]
  },
  {
   "cell_type": "code",
   "execution_count": null,
   "id": "ed14fc30-5640-4891-8ae1-defa57bf21a6",
   "metadata": {},
   "outputs": [],
   "source": [
    "search(\"The climate crisis is worse in poorer countries\", index)"
   ]
  },
  {
   "cell_type": "code",
   "execution_count": null,
   "id": "5fa4539c-7361-4c71-aa76-2cb6add3981e",
   "metadata": {},
   "outputs": [],
   "source": []
  }
 ],
 "metadata": {
  "kernelspec": {
   "display_name": "Python 3 (ipykernel)",
   "language": "python",
   "name": "python3"
  },
  "language_info": {
   "codemirror_mode": {
    "name": "ipython",
    "version": 3
   },
   "file_extension": ".py",
   "mimetype": "text/x-python",
   "name": "python",
   "nbconvert_exporter": "python",
   "pygments_lexer": "ipython3",
   "version": "3.12.3"
  }
 },
 "nbformat": 4,
 "nbformat_minor": 5
}
