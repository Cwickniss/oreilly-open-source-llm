{
 "cells": [
  {
   "cell_type": "markdown",
   "id": "b64ece1d-7558-4fb6-a98b-ad06283bb898",
   "metadata": {},
   "source": [
    "# Load data (from previous notebook)"
   ]
  },
  {
   "cell_type": "code",
   "execution_count": 1,
   "id": "1c08c809-10c6-42aa-9a01-0477ca426b2f",
   "metadata": {},
   "outputs": [],
   "source": [
    "sentences = open(\"sentences.txt\").read().split(\"@@@\")"
   ]
  },
  {
   "cell_type": "code",
   "execution_count": 2,
   "id": "73220da2-6d8f-42db-95ac-f361449388b5",
   "metadata": {},
   "outputs": [
    {
     "data": {
      "text/plain": [
       "17250"
      ]
     },
     "execution_count": 2,
     "metadata": {},
     "output_type": "execute_result"
    }
   ],
   "source": [
    "len(sentences)"
   ]
  },
  {
   "cell_type": "code",
   "execution_count": 3,
   "id": "a93b4b1c-1f51-4f4a-a647-26fc18896686",
   "metadata": {},
   "outputs": [
    {
     "name": "stdout",
     "output_type": "stream",
     "text": [
      "Collecting txtai\n",
      "  Downloading txtai-6.0.0-py3-none-any.whl (186 kB)\n",
      "\u001b[K     |████████████████████████████████| 186 kB 9.6 MB/s eta 0:00:01\n",
      "\u001b[?25hRequirement already satisfied: transformers>=4.22.0 in /home/cwinkler/.venv/jupyter-new/lib/python3.8/site-packages (from txtai) (4.31.0)\n",
      "Requirement already satisfied: regex>=2022.8.17 in /home/cwinkler/.venv/jupyter-new/lib/python3.8/site-packages (from txtai) (2023.8.8)\n",
      "Collecting faiss-cpu>=1.7.1.post2\n",
      "  Downloading faiss_cpu-1.7.4-cp38-cp38-manylinux_2_17_x86_64.manylinux2014_x86_64.whl (17.6 MB)\n",
      "\u001b[K     |████████████████████████████████| 17.6 MB 115.7 MB/s eta 0:00:01\n",
      "\u001b[?25hRequirement already satisfied: torch>=1.12.1 in /home/cwinkler/.venv/jupyter-new/lib/python3.8/site-packages (from txtai) (2.0.1)\n",
      "Requirement already satisfied: huggingface-hub>=0.9.0 in /home/cwinkler/.venv/jupyter-new/lib/python3.8/site-packages (from txtai) (0.16.4)\n",
      "Requirement already satisfied: numpy>=1.18.4 in /home/cwinkler/.venv/jupyter-new/lib/python3.8/site-packages (from txtai) (1.24.4)\n",
      "Requirement already satisfied: pyyaml>=5.3 in /home/cwinkler/.venv/jupyter-new/lib/python3.8/site-packages (from txtai) (6.0.1)\n",
      "Requirement already satisfied: filelock in /home/cwinkler/.venv/jupyter-new/lib/python3.8/site-packages (from transformers>=4.22.0->txtai) (3.12.2)\n",
      "Requirement already satisfied: packaging>=20.0 in /home/cwinkler/.venv/jupyter-new/lib/python3.8/site-packages (from transformers>=4.22.0->txtai) (23.1)\n",
      "Requirement already satisfied: tokenizers!=0.11.3,<0.14,>=0.11.1 in /home/cwinkler/.venv/jupyter-new/lib/python3.8/site-packages (from transformers>=4.22.0->txtai) (0.13.3)\n",
      "Requirement already satisfied: safetensors>=0.3.1 in /home/cwinkler/.venv/jupyter-new/lib/python3.8/site-packages (from transformers>=4.22.0->txtai) (0.3.2)\n",
      "Requirement already satisfied: tqdm>=4.27 in /home/cwinkler/.venv/jupyter-new/lib/python3.8/site-packages (from transformers>=4.22.0->txtai) (4.66.1)\n",
      "Requirement already satisfied: requests in /home/cwinkler/.venv/jupyter-new/lib/python3.8/site-packages (from transformers>=4.22.0->txtai) (2.31.0)\n",
      "Requirement already satisfied: typing-extensions in /home/cwinkler/.venv/jupyter-new/lib/python3.8/site-packages (from torch>=1.12.1->txtai) (4.7.1)\n",
      "Requirement already satisfied: triton==2.0.0; platform_system == \"Linux\" and platform_machine == \"x86_64\" in /home/cwinkler/.venv/jupyter-new/lib/python3.8/site-packages (from torch>=1.12.1->txtai) (2.0.0)\n",
      "Requirement already satisfied: nvidia-cuda-nvrtc-cu11==11.7.99; platform_system == \"Linux\" and platform_machine == \"x86_64\" in /home/cwinkler/.venv/jupyter-new/lib/python3.8/site-packages (from torch>=1.12.1->txtai) (11.7.99)\n",
      "Requirement already satisfied: nvidia-cublas-cu11==11.10.3.66; platform_system == \"Linux\" and platform_machine == \"x86_64\" in /home/cwinkler/.venv/jupyter-new/lib/python3.8/site-packages (from torch>=1.12.1->txtai) (11.10.3.66)\n",
      "Requirement already satisfied: nvidia-curand-cu11==10.2.10.91; platform_system == \"Linux\" and platform_machine == \"x86_64\" in /home/cwinkler/.venv/jupyter-new/lib/python3.8/site-packages (from torch>=1.12.1->txtai) (10.2.10.91)\n",
      "Requirement already satisfied: nvidia-cuda-cupti-cu11==11.7.101; platform_system == \"Linux\" and platform_machine == \"x86_64\" in /home/cwinkler/.venv/jupyter-new/lib/python3.8/site-packages (from torch>=1.12.1->txtai) (11.7.101)\n",
      "Requirement already satisfied: nvidia-cufft-cu11==10.9.0.58; platform_system == \"Linux\" and platform_machine == \"x86_64\" in /home/cwinkler/.venv/jupyter-new/lib/python3.8/site-packages (from torch>=1.12.1->txtai) (10.9.0.58)\n",
      "Requirement already satisfied: nvidia-cusparse-cu11==11.7.4.91; platform_system == \"Linux\" and platform_machine == \"x86_64\" in /home/cwinkler/.venv/jupyter-new/lib/python3.8/site-packages (from torch>=1.12.1->txtai) (11.7.4.91)\n",
      "Requirement already satisfied: networkx in /home/cwinkler/.venv/jupyter-new/lib/python3.8/site-packages (from torch>=1.12.1->txtai) (3.1)\n",
      "Requirement already satisfied: nvidia-nvtx-cu11==11.7.91; platform_system == \"Linux\" and platform_machine == \"x86_64\" in /home/cwinkler/.venv/jupyter-new/lib/python3.8/site-packages (from torch>=1.12.1->txtai) (11.7.91)\n",
      "Requirement already satisfied: nvidia-nccl-cu11==2.14.3; platform_system == \"Linux\" and platform_machine == \"x86_64\" in /home/cwinkler/.venv/jupyter-new/lib/python3.8/site-packages (from torch>=1.12.1->txtai) (2.14.3)\n",
      "Requirement already satisfied: jinja2 in /home/cwinkler/.venv/jupyter-new/lib/python3.8/site-packages (from torch>=1.12.1->txtai) (3.1.2)\n",
      "Requirement already satisfied: nvidia-cuda-runtime-cu11==11.7.99; platform_system == \"Linux\" and platform_machine == \"x86_64\" in /home/cwinkler/.venv/jupyter-new/lib/python3.8/site-packages (from torch>=1.12.1->txtai) (11.7.99)\n",
      "Requirement already satisfied: sympy in /home/cwinkler/.venv/jupyter-new/lib/python3.8/site-packages (from torch>=1.12.1->txtai) (1.12)\n",
      "Requirement already satisfied: nvidia-cudnn-cu11==8.5.0.96; platform_system == \"Linux\" and platform_machine == \"x86_64\" in /home/cwinkler/.venv/jupyter-new/lib/python3.8/site-packages (from torch>=1.12.1->txtai) (8.5.0.96)\n",
      "Requirement already satisfied: nvidia-cusolver-cu11==11.4.0.1; platform_system == \"Linux\" and platform_machine == \"x86_64\" in /home/cwinkler/.venv/jupyter-new/lib/python3.8/site-packages (from torch>=1.12.1->txtai) (11.4.0.1)\n",
      "Requirement already satisfied: fsspec in /home/cwinkler/.venv/jupyter-new/lib/python3.8/site-packages (from huggingface-hub>=0.9.0->txtai) (2023.6.0)\n",
      "Requirement already satisfied: idna<4,>=2.5 in /home/cwinkler/.venv/jupyter-new/lib/python3.8/site-packages (from requests->transformers>=4.22.0->txtai) (3.4)\n",
      "Requirement already satisfied: urllib3<3,>=1.21.1 in /home/cwinkler/.venv/jupyter-new/lib/python3.8/site-packages (from requests->transformers>=4.22.0->txtai) (1.26.16)\n",
      "Requirement already satisfied: charset-normalizer<4,>=2 in /home/cwinkler/.venv/jupyter-new/lib/python3.8/site-packages (from requests->transformers>=4.22.0->txtai) (3.2.0)\n",
      "Requirement already satisfied: certifi>=2017.4.17 in /home/cwinkler/.venv/jupyter-new/lib/python3.8/site-packages (from requests->transformers>=4.22.0->txtai) (2023.7.22)\n",
      "Requirement already satisfied: cmake in /home/cwinkler/.venv/jupyter-new/lib/python3.8/site-packages (from triton==2.0.0; platform_system == \"Linux\" and platform_machine == \"x86_64\"->torch>=1.12.1->txtai) (3.27.1)\n",
      "Requirement already satisfied: lit in /home/cwinkler/.venv/jupyter-new/lib/python3.8/site-packages (from triton==2.0.0; platform_system == \"Linux\" and platform_machine == \"x86_64\"->torch>=1.12.1->txtai) (16.0.6)\n",
      "Requirement already satisfied: wheel in /home/cwinkler/.venv/jupyter-new/lib/python3.8/site-packages (from nvidia-cublas-cu11==11.10.3.66; platform_system == \"Linux\" and platform_machine == \"x86_64\"->torch>=1.12.1->txtai) (0.41.1)\n",
      "Requirement already satisfied: setuptools in /home/cwinkler/.venv/jupyter-new/lib/python3.8/site-packages (from nvidia-cublas-cu11==11.10.3.66; platform_system == \"Linux\" and platform_machine == \"x86_64\"->torch>=1.12.1->txtai) (44.0.0)\n",
      "Requirement already satisfied: MarkupSafe>=2.0 in /home/cwinkler/.venv/jupyter-new/lib/python3.8/site-packages (from jinja2->torch>=1.12.1->txtai) (2.1.3)\n",
      "Requirement already satisfied: mpmath>=0.19 in /home/cwinkler/.venv/jupyter-new/lib/python3.8/site-packages (from sympy->torch>=1.12.1->txtai) (1.3.0)\n",
      "Installing collected packages: faiss-cpu, txtai\n",
      "Successfully installed faiss-cpu-1.7.4 txtai-6.0.0\n"
     ]
    }
   ],
   "source": [
    "!pip install txtai"
   ]
  },
  {
   "cell_type": "code",
   "execution_count": 7,
   "id": "6d8efc80-1587-4c9c-95d5-fbd6a8294df7",
   "metadata": {},
   "outputs": [
    {
     "data": {
      "application/vnd.jupyter.widget-view+json": {
       "model_id": "ba99aec848174a9489700ac499f536bb",
       "version_major": 2,
       "version_minor": 0
      },
      "text/plain": [
       "Downloading (…)lve/main/config.json:   0%|          | 0.00/612 [00:00<?, ?B/s]"
      ]
     },
     "metadata": {},
     "output_type": "display_data"
    },
    {
     "data": {
      "application/vnd.jupyter.widget-view+json": {
       "model_id": "d7e68aa3b45245979b2e1cf50c09333b",
       "version_major": 2,
       "version_minor": 0
      },
      "text/plain": [
       "Downloading pytorch_model.bin:   0%|          | 0.00/90.9M [00:00<?, ?B/s]"
      ]
     },
     "metadata": {},
     "output_type": "display_data"
    },
    {
     "data": {
      "application/vnd.jupyter.widget-view+json": {
       "model_id": "72d796b6119043118bb4cedbc0126beb",
       "version_major": 2,
       "version_minor": 0
      },
      "text/plain": [
       "Downloading (…)okenizer_config.json:   0%|          | 0.00/383 [00:00<?, ?B/s]"
      ]
     },
     "metadata": {},
     "output_type": "display_data"
    },
    {
     "data": {
      "application/vnd.jupyter.widget-view+json": {
       "model_id": "1b662a099a1942028a30223347531684",
       "version_major": 2,
       "version_minor": 0
      },
      "text/plain": [
       "Downloading (…)solve/main/vocab.txt:   0%|          | 0.00/232k [00:00<?, ?B/s]"
      ]
     },
     "metadata": {},
     "output_type": "display_data"
    },
    {
     "data": {
      "application/vnd.jupyter.widget-view+json": {
       "model_id": "018ae5e96eea4ddbadbd1447f61e5668",
       "version_major": 2,
       "version_minor": 0
      },
      "text/plain": [
       "Downloading (…)/main/tokenizer.json:   0%|          | 0.00/466k [00:00<?, ?B/s]"
      ]
     },
     "metadata": {},
     "output_type": "display_data"
    },
    {
     "data": {
      "application/vnd.jupyter.widget-view+json": {
       "model_id": "7668087eb16b47c79e04c9a6911b5946",
       "version_major": 2,
       "version_minor": 0
      },
      "text/plain": [
       "Downloading (…)cial_tokens_map.json:   0%|          | 0.00/112 [00:00<?, ?B/s]"
      ]
     },
     "metadata": {},
     "output_type": "display_data"
    }
   ],
   "source": [
    "from txtai.embeddings import Embeddings\n",
    "from txtai.pipeline import Extractor\n",
    "\n",
    "embeddings = Embeddings({\"path\": \"sentence-transformers/multi-qa-MiniLM-L6-cos-v1\", \"content\": True})"
   ]
  },
  {
   "cell_type": "code",
   "execution_count": 8,
   "id": "7c235e3c-966b-4ce3-a7aa-d73a5d689a8f",
   "metadata": {},
   "outputs": [],
   "source": [
    "embeddings.index(sentences)"
   ]
  },
  {
   "cell_type": "code",
   "execution_count": 9,
   "id": "61899586-dbc3-4efc-845a-ead8bd108edd",
   "metadata": {},
   "outputs": [
    {
     "data": {
      "text/plain": [
       "[{'id': '3947',\n",
       "  'text': 'The effects of climate change are worsening.',\n",
       "  'score': 0.7242975831031799},\n",
       " {'id': '3695',\n",
       "  'text': 'No country is immune to the climate crisis.',\n",
       "  'score': 0.7188854217529297},\n",
       " {'id': '7646',\n",
       "  'text': 'Let us consider the climate crisis.',\n",
       "  'score': 0.7086147665977478},\n",
       " {'id': '9664',\n",
       "  'text': 'Although climate change and the resulting extreme weather conditions occur throughout the globe, the crisis largely affects the minimally resilient and those least responsible for causing the problem.',\n",
       "  'score': 0.6975892782211304},\n",
       " {'id': '13051',\n",
       "  'text': 'The climate crisis is creating an increasingly uncertain future for people in most parts of the world.',\n",
       "  'score': 0.6861127614974976},\n",
       " {'id': '233',\n",
       "  'text': 'While Africa is the region least responsible for the climate crisis, it finds itself at the epicentre of its worst impacts.',\n",
       "  'score': 0.6854451894760132},\n",
       " {'id': '15010',\n",
       "  'text': 'It is paramount that all countries make every effort to accelerate our fight towards better climate resilience.',\n",
       "  'score': 0.6827100515365601},\n",
       " {'id': '16799',\n",
       "  'text': 'The climate crisis is a clear and present threat.',\n",
       "  'score': 0.6810294985771179},\n",
       " {'id': '15468',\n",
       "  'text': 'Yet we are the fourth most vulnerable country to the effects of climate change.',\n",
       "  'score': 0.6740129590034485},\n",
       " {'id': '2735',\n",
       "  'text': 'We are not all equally responsible for the climate crisis.',\n",
       "  'score': 0.6735783815383911}]"
      ]
     },
     "execution_count": 9,
     "metadata": {},
     "output_type": "execute_result"
    }
   ],
   "source": [
    "res = embeddings.search(\"The climate crisis is worse in poorer countries\", 10)\n",
    "res"
   ]
  },
  {
   "cell_type": "code",
   "execution_count": 10,
   "id": "3325e185-d3b9-4030-b639-4c5e6e3d1dbc",
   "metadata": {},
   "outputs": [
    {
     "data": {
      "text/html": [
       "<div>\n",
       "<style scoped>\n",
       "    .dataframe tbody tr th:only-of-type {\n",
       "        vertical-align: middle;\n",
       "    }\n",
       "\n",
       "    .dataframe tbody tr th {\n",
       "        vertical-align: top;\n",
       "    }\n",
       "\n",
       "    .dataframe thead th {\n",
       "        text-align: right;\n",
       "    }\n",
       "</style>\n",
       "<table border=\"1\" class=\"dataframe\">\n",
       "  <thead>\n",
       "    <tr style=\"text-align: right;\">\n",
       "      <th></th>\n",
       "      <th>id</th>\n",
       "      <th>text</th>\n",
       "      <th>score</th>\n",
       "    </tr>\n",
       "  </thead>\n",
       "  <tbody>\n",
       "    <tr>\n",
       "      <th>0</th>\n",
       "      <td>3947</td>\n",
       "      <td>The effects of climate change are worsening.</td>\n",
       "      <td>0.724298</td>\n",
       "    </tr>\n",
       "    <tr>\n",
       "      <th>1</th>\n",
       "      <td>3695</td>\n",
       "      <td>No country is immune to the climate crisis.</td>\n",
       "      <td>0.718885</td>\n",
       "    </tr>\n",
       "    <tr>\n",
       "      <th>2</th>\n",
       "      <td>7646</td>\n",
       "      <td>Let us consider the climate crisis.</td>\n",
       "      <td>0.708615</td>\n",
       "    </tr>\n",
       "    <tr>\n",
       "      <th>3</th>\n",
       "      <td>9664</td>\n",
       "      <td>Although climate change and the resulting extreme weather conditions occur throughout the globe, the crisis largely affects the minimally resilient and those least responsible for causing the problem.</td>\n",
       "      <td>0.697589</td>\n",
       "    </tr>\n",
       "    <tr>\n",
       "      <th>4</th>\n",
       "      <td>13051</td>\n",
       "      <td>The climate crisis is creating an increasingly uncertain future for people in most parts of the world.</td>\n",
       "      <td>0.686113</td>\n",
       "    </tr>\n",
       "    <tr>\n",
       "      <th>5</th>\n",
       "      <td>233</td>\n",
       "      <td>While Africa is the region least responsible for the climate crisis, it finds itself at the epicentre of its worst impacts.</td>\n",
       "      <td>0.685445</td>\n",
       "    </tr>\n",
       "    <tr>\n",
       "      <th>6</th>\n",
       "      <td>15010</td>\n",
       "      <td>It is paramount that all countries make every effort to accelerate our fight towards better climate resilience.</td>\n",
       "      <td>0.682710</td>\n",
       "    </tr>\n",
       "    <tr>\n",
       "      <th>7</th>\n",
       "      <td>16799</td>\n",
       "      <td>The climate crisis is a clear and present threat.</td>\n",
       "      <td>0.681029</td>\n",
       "    </tr>\n",
       "    <tr>\n",
       "      <th>8</th>\n",
       "      <td>15468</td>\n",
       "      <td>Yet we are the fourth most vulnerable country to the effects of climate change.</td>\n",
       "      <td>0.674013</td>\n",
       "    </tr>\n",
       "    <tr>\n",
       "      <th>9</th>\n",
       "      <td>2735</td>\n",
       "      <td>We are not all equally responsible for the climate crisis.</td>\n",
       "      <td>0.673578</td>\n",
       "    </tr>\n",
       "  </tbody>\n",
       "</table>\n",
       "</div>"
      ],
      "text/plain": [
       "      id  \\\n",
       "0  3947    \n",
       "1  3695    \n",
       "2  7646    \n",
       "3  9664    \n",
       "4  13051   \n",
       "5  233     \n",
       "6  15010   \n",
       "7  16799   \n",
       "8  15468   \n",
       "9  2735    \n",
       "\n",
       "                                                                                                                                                                                                       text  \\\n",
       "0  The effects of climate change are worsening.                                                                                                                                                               \n",
       "1  No country is immune to the climate crisis.                                                                                                                                                                \n",
       "2  Let us consider the climate crisis.                                                                                                                                                                        \n",
       "3  Although climate change and the resulting extreme weather conditions occur throughout the globe, the crisis largely affects the minimally resilient and those least responsible for causing the problem.   \n",
       "4  The climate crisis is creating an increasingly uncertain future for people in most parts of the world.                                                                                                     \n",
       "5  While Africa is the region least responsible for the climate crisis, it finds itself at the epicentre of its worst impacts.                                                                                \n",
       "6  It is paramount that all countries make every effort to accelerate our fight towards better climate resilience.                                                                                            \n",
       "7  The climate crisis is a clear and present threat.                                                                                                                                                          \n",
       "8  Yet we are the fourth most vulnerable country to the effects of climate change.                                                                                                                            \n",
       "9  We are not all equally responsible for the climate crisis.                                                                                                                                                 \n",
       "\n",
       "      score  \n",
       "0  0.724298  \n",
       "1  0.718885  \n",
       "2  0.708615  \n",
       "3  0.697589  \n",
       "4  0.686113  \n",
       "5  0.685445  \n",
       "6  0.682710  \n",
       "7  0.681029  \n",
       "8  0.674013  \n",
       "9  0.673578  "
      ]
     },
     "execution_count": 10,
     "metadata": {},
     "output_type": "execute_result"
    }
   ],
   "source": [
    "import pandas as pd\n",
    "pd.set_option('display.max_colwidth', 0)\n",
    "df = pd.DataFrame(res)\n",
    "df"
   ]
  },
  {
   "cell_type": "markdown",
   "id": "e2455211-b6a6-4497-8a0c-e6b46d340f8f",
   "metadata": {},
   "source": [
    "**Identical** results to our first notebook!"
   ]
  }
 ],
 "metadata": {
  "kernelspec": {
   "display_name": "Python 3 (ipykernel)",
   "language": "python",
   "name": "python3"
  },
  "language_info": {
   "codemirror_mode": {
    "name": "ipython",
    "version": 3
   },
   "file_extension": ".py",
   "mimetype": "text/x-python",
   "name": "python",
   "nbconvert_exporter": "python",
   "pygments_lexer": "ipython3",
   "version": "3.8.10"
  }
 },
 "nbformat": 4,
 "nbformat_minor": 5
}
