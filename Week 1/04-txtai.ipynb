{
 "cells": [
  {
   "cell_type": "markdown",
   "id": "b64ece1d-7558-4fb6-a98b-ad06283bb898",
   "metadata": {},
   "source": [
    "# Load data (from previous notebook)"
   ]
  },
  {
   "cell_type": "code",
   "execution_count": 1,
   "id": "1c08c809-10c6-42aa-9a01-0477ca426b2f",
   "metadata": {},
   "outputs": [],
   "source": [
    "sentences = open(\"sentences.txt\").read().split(\"@@@\")"
   ]
  },
  {
   "cell_type": "code",
   "execution_count": 2,
   "id": "73220da2-6d8f-42db-95ac-f361449388b5",
   "metadata": {},
   "outputs": [
    {
     "data": {
      "text/plain": [
       "17250"
      ]
     },
     "execution_count": 2,
     "metadata": {},
     "output_type": "execute_result"
    }
   ],
   "source": [
    "len(sentences)"
   ]
  },
  {
   "cell_type": "code",
   "execution_count": null,
   "id": "a93b4b1c-1f51-4f4a-a647-26fc18896686",
   "metadata": {},
   "outputs": [],
   "source": [
    "!pip install txtai"
   ]
  },
  {
   "cell_type": "code",
   "execution_count": 3,
   "id": "6d8efc80-1587-4c9c-95d5-fbd6a8294df7",
   "metadata": {},
   "outputs": [
    {
     "name": "stderr",
     "output_type": "stream",
     "text": [
      "/home/cwinkler/.venv/jupyter/lib/python3.10/site-packages/torchvision/io/image.py:13: UserWarning: Failed to load image Python extension: '/home/cwinkler/.venv/jupyter/lib/python3.10/site-packages/torchvision/image.so: undefined symbol: _ZN3c1017RegisterOperatorsD1Ev'If you don't plan on using image functionality from `torchvision.io`, you can ignore this warning. Otherwise, there might be something wrong with your environment. Did you have `libjpeg` or `libpng` installed before building `torchvision` from source?\n",
      "  warn(\n",
      "2024-11-04 17:48:15.141711: E external/local_xla/xla/stream_executor/cuda/cuda_fft.cc:477] Unable to register cuFFT factory: Attempting to register factory for plugin cuFFT when one has already been registered\n",
      "WARNING: All log messages before absl::InitializeLog() is called are written to STDERR\n",
      "E0000 00:00:1730738895.157810 2860350 cuda_dnn.cc:8310] Unable to register cuDNN factory: Attempting to register factory for plugin cuDNN when one has already been registered\n",
      "E0000 00:00:1730738895.162792 2860350 cuda_blas.cc:1418] Unable to register cuBLAS factory: Attempting to register factory for plugin cuBLAS when one has already been registered\n",
      "2024-11-04 17:48:15.180426: I tensorflow/core/platform/cpu_feature_guard.cc:210] This TensorFlow binary is optimized to use available CPU instructions in performance-critical operations.\n",
      "To enable the following instructions: AVX2 FMA, in other operations, rebuild TensorFlow with the appropriate compiler flags.\n"
     ]
    }
   ],
   "source": [
    "from txtai.embeddings import Embeddings\n",
    "\n",
    "embeddings = Embeddings({\"path\": \"sentence-transformers/multi-qa-MiniLM-L6-cos-v1\", \"content\": True})"
   ]
  },
  {
   "cell_type": "code",
   "execution_count": 4,
   "id": "7c235e3c-966b-4ce3-a7aa-d73a5d689a8f",
   "metadata": {},
   "outputs": [],
   "source": [
    "embeddings.index(sentences)"
   ]
  },
  {
   "cell_type": "code",
   "execution_count": 5,
   "id": "61899586-dbc3-4efc-845a-ead8bd108edd",
   "metadata": {},
   "outputs": [
    {
     "data": {
      "text/plain": [
       "[{'id': '16620',\n",
       "  'text': 'The effects of climate change are worsening.',\n",
       "  'score': 0.7349320650100708},\n",
       " {'id': '10777',\n",
       "  'text': 'No country is immune to the climate crisis.',\n",
       "  'score': 0.7280570268630981},\n",
       " {'id': '15896',\n",
       "  'text': 'Let us consider the climate crisis.',\n",
       "  'score': 0.7138845920562744},\n",
       " {'id': '5174',\n",
       "  'text': 'It is paramount that all countries make every effort to accelerate our fight towards better climate resilience.',\n",
       "  'score': 0.7042943835258484},\n",
       " {'id': '11482',\n",
       "  'text': 'Although climate change and the resulting extreme weather conditions occur throughout the globe, the crisis largely affects the minimally resilient and those least responsible for causing the problem.',\n",
       "  'score': 0.7030118107795715},\n",
       " {'id': '13319',\n",
       "  'text': 'Yet we are the fourth most vulnerable country to the effects of climate change.',\n",
       "  'score': 0.6929622292518616},\n",
       " {'id': '4490',\n",
       "  'text': 'The climate crisis is a clear and present threat.',\n",
       "  'score': 0.6925267577171326},\n",
       " {'id': '8716',\n",
       "  'text': 'The climate crisis is creating an increasingly uncertain future for people in most parts of the world.',\n",
       "  'score': 0.6916895508766174},\n",
       " {'id': '7331',\n",
       "  'text': 'While Africa is the region least responsible for the climate crisis, it finds itself at the epicentre of its worst impacts.',\n",
       "  'score': 0.6877607107162476},\n",
       " {'id': '6375',\n",
       "  'text': 'We are not all equally responsible for the climate crisis.',\n",
       "  'score': 0.685070812702179}]"
      ]
     },
     "execution_count": 5,
     "metadata": {},
     "output_type": "execute_result"
    }
   ],
   "source": [
    "res = embeddings.search(\"The climate crisis is worse for poorer countries\", 10)\n",
    "res"
   ]
  },
  {
   "cell_type": "code",
   "execution_count": 6,
   "id": "3325e185-d3b9-4030-b639-4c5e6e3d1dbc",
   "metadata": {},
   "outputs": [
    {
     "data": {
      "text/html": [
       "<div>\n",
       "<style scoped>\n",
       "    .dataframe tbody tr th:only-of-type {\n",
       "        vertical-align: middle;\n",
       "    }\n",
       "\n",
       "    .dataframe tbody tr th {\n",
       "        vertical-align: top;\n",
       "    }\n",
       "\n",
       "    .dataframe thead th {\n",
       "        text-align: right;\n",
       "    }\n",
       "</style>\n",
       "<table border=\"1\" class=\"dataframe\">\n",
       "  <thead>\n",
       "    <tr style=\"text-align: right;\">\n",
       "      <th></th>\n",
       "      <th>id</th>\n",
       "      <th>text</th>\n",
       "      <th>score</th>\n",
       "    </tr>\n",
       "  </thead>\n",
       "  <tbody>\n",
       "    <tr>\n",
       "      <th>0</th>\n",
       "      <td>16620</td>\n",
       "      <td>The effects of climate change are worsening.</td>\n",
       "      <td>0.734932</td>\n",
       "    </tr>\n",
       "    <tr>\n",
       "      <th>1</th>\n",
       "      <td>10777</td>\n",
       "      <td>No country is immune to the climate crisis.</td>\n",
       "      <td>0.728057</td>\n",
       "    </tr>\n",
       "    <tr>\n",
       "      <th>2</th>\n",
       "      <td>15896</td>\n",
       "      <td>Let us consider the climate crisis.</td>\n",
       "      <td>0.713885</td>\n",
       "    </tr>\n",
       "    <tr>\n",
       "      <th>3</th>\n",
       "      <td>5174</td>\n",
       "      <td>It is paramount that all countries make every effort to accelerate our fight towards better climate resilience.</td>\n",
       "      <td>0.704294</td>\n",
       "    </tr>\n",
       "    <tr>\n",
       "      <th>4</th>\n",
       "      <td>11482</td>\n",
       "      <td>Although climate change and the resulting extreme weather conditions occur throughout the globe, the crisis largely affects the minimally resilient and those least responsible for causing the problem.</td>\n",
       "      <td>0.703012</td>\n",
       "    </tr>\n",
       "    <tr>\n",
       "      <th>5</th>\n",
       "      <td>13319</td>\n",
       "      <td>Yet we are the fourth most vulnerable country to the effects of climate change.</td>\n",
       "      <td>0.692962</td>\n",
       "    </tr>\n",
       "    <tr>\n",
       "      <th>6</th>\n",
       "      <td>4490</td>\n",
       "      <td>The climate crisis is a clear and present threat.</td>\n",
       "      <td>0.692527</td>\n",
       "    </tr>\n",
       "    <tr>\n",
       "      <th>7</th>\n",
       "      <td>8716</td>\n",
       "      <td>The climate crisis is creating an increasingly uncertain future for people in most parts of the world.</td>\n",
       "      <td>0.691690</td>\n",
       "    </tr>\n",
       "    <tr>\n",
       "      <th>8</th>\n",
       "      <td>7331</td>\n",
       "      <td>While Africa is the region least responsible for the climate crisis, it finds itself at the epicentre of its worst impacts.</td>\n",
       "      <td>0.687761</td>\n",
       "    </tr>\n",
       "    <tr>\n",
       "      <th>9</th>\n",
       "      <td>6375</td>\n",
       "      <td>We are not all equally responsible for the climate crisis.</td>\n",
       "      <td>0.685071</td>\n",
       "    </tr>\n",
       "  </tbody>\n",
       "</table>\n",
       "</div>"
      ],
      "text/plain": [
       "      id  \\\n",
       "0  16620   \n",
       "1  10777   \n",
       "2  15896   \n",
       "3  5174    \n",
       "4  11482   \n",
       "5  13319   \n",
       "6  4490    \n",
       "7  8716    \n",
       "8  7331    \n",
       "9  6375    \n",
       "\n",
       "                                                                                                                                                                                                       text  \\\n",
       "0  The effects of climate change are worsening.                                                                                                                                                               \n",
       "1  No country is immune to the climate crisis.                                                                                                                                                                \n",
       "2  Let us consider the climate crisis.                                                                                                                                                                        \n",
       "3  It is paramount that all countries make every effort to accelerate our fight towards better climate resilience.                                                                                            \n",
       "4  Although climate change and the resulting extreme weather conditions occur throughout the globe, the crisis largely affects the minimally resilient and those least responsible for causing the problem.   \n",
       "5  Yet we are the fourth most vulnerable country to the effects of climate change.                                                                                                                            \n",
       "6  The climate crisis is a clear and present threat.                                                                                                                                                          \n",
       "7  The climate crisis is creating an increasingly uncertain future for people in most parts of the world.                                                                                                     \n",
       "8  While Africa is the region least responsible for the climate crisis, it finds itself at the epicentre of its worst impacts.                                                                                \n",
       "9  We are not all equally responsible for the climate crisis.                                                                                                                                                 \n",
       "\n",
       "      score  \n",
       "0  0.734932  \n",
       "1  0.728057  \n",
       "2  0.713885  \n",
       "3  0.704294  \n",
       "4  0.703012  \n",
       "5  0.692962  \n",
       "6  0.692527  \n",
       "7  0.691690  \n",
       "8  0.687761  \n",
       "9  0.685071  "
      ]
     },
     "execution_count": 6,
     "metadata": {},
     "output_type": "execute_result"
    }
   ],
   "source": [
    "import pandas as pd\n",
    "pd.set_option('display.max_colwidth', 0)\n",
    "df = pd.DataFrame(res)\n",
    "df"
   ]
  },
  {
   "cell_type": "markdown",
   "id": "e2455211-b6a6-4497-8a0c-e6b46d340f8f",
   "metadata": {},
   "source": [
    "**Identical** results to our first notebook!"
   ]
  },
  {
   "cell_type": "code",
   "execution_count": null,
   "id": "a7fb4234-a21d-457d-a298-50bdd1cc7772",
   "metadata": {},
   "outputs": [],
   "source": [
    "res = embeddings.search(\"Are poorer countries more affected by the climate crisis?\", 10)\n",
    "pd.DataFrame(res)"
   ]
  },
  {
   "cell_type": "code",
   "execution_count": null,
   "id": "e625a2b4-75bc-4529-9e70-6f9e6e6f6bbd",
   "metadata": {},
   "outputs": [],
   "source": []
  }
 ],
 "metadata": {
  "kernelspec": {
   "display_name": "Python 3 (ipykernel)",
   "language": "python",
   "name": "python3"
  },
  "language_info": {
   "codemirror_mode": {
    "name": "ipython",
    "version": 3
   },
   "file_extension": ".py",
   "mimetype": "text/x-python",
   "name": "python",
   "nbconvert_exporter": "python",
   "pygments_lexer": "ipython3",
   "version": "3.10.12"
  }
 },
 "nbformat": 4,
 "nbformat_minor": 5
}
